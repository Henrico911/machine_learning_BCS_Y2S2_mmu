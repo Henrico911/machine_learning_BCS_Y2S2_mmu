{
 "cells": [
  {
   "cell_type": "code",
   "execution_count": 12,
   "id": "a58c8be5",
   "metadata": {},
   "outputs": [],
   "source": [
    "import pandas as pd\n",
    "import matplotlib.pyplot as plt"
   ]
  },
  {
   "cell_type": "code",
   "execution_count": 13,
   "id": "e5117471",
   "metadata": {},
   "outputs": [
    {
     "data": {
      "text/html": [
       "<div>\n",
       "<style scoped>\n",
       "    .dataframe tbody tr th:only-of-type {\n",
       "        vertical-align: middle;\n",
       "    }\n",
       "\n",
       "    .dataframe tbody tr th {\n",
       "        vertical-align: top;\n",
       "    }\n",
       "\n",
       "    .dataframe thead th {\n",
       "        text-align: right;\n",
       "    }\n",
       "</style>\n",
       "<table border=\"1\" class=\"dataframe\">\n",
       "  <thead>\n",
       "    <tr style=\"text-align: right;\">\n",
       "      <th></th>\n",
       "      <th>study_time</th>\n",
       "      <th>score</th>\n",
       "    </tr>\n",
       "  </thead>\n",
       "  <tbody>\n",
       "    <tr>\n",
       "      <th>0</th>\n",
       "      <td>11</td>\n",
       "      <td>25</td>\n",
       "    </tr>\n",
       "    <tr>\n",
       "      <th>1</th>\n",
       "      <td>15</td>\n",
       "      <td>35</td>\n",
       "    </tr>\n",
       "    <tr>\n",
       "      <th>2</th>\n",
       "      <td>18</td>\n",
       "      <td>26</td>\n",
       "    </tr>\n",
       "    <tr>\n",
       "      <th>3</th>\n",
       "      <td>199</td>\n",
       "      <td>58</td>\n",
       "    </tr>\n",
       "    <tr>\n",
       "      <th>4</th>\n",
       "      <td>154</td>\n",
       "      <td>25</td>\n",
       "    </tr>\n",
       "  </tbody>\n",
       "</table>\n",
       "</div>"
      ],
      "text/plain": [
       "   study_time  score\n",
       "0          11     25\n",
       "1          15     35\n",
       "2          18     26\n",
       "3         199     58\n",
       "4         154     25"
      ]
     },
     "execution_count": 13,
     "metadata": {},
     "output_type": "execute_result"
    }
   ],
   "source": [
    "data = pd.read_csv(\"data.csv\")\n",
    "data.head(5)"
   ]
  },
  {
   "cell_type": "code",
   "execution_count": 14,
   "id": "8cd6d90c",
   "metadata": {},
   "outputs": [],
   "source": [
    "# loss function\n",
    "def loss_function(m, b, points):\n",
    "    total_error = 0\n",
    "    for i in range(len(points)):\n",
    "        x = points.iloc[i].study_time\n",
    "        y = points.iloc[i].score\n",
    "        total_error += (y - (m*x + b))**2\n",
    "        total_error / float(len(points))"
   ]
  },
  {
   "cell_type": "code",
   "execution_count": 15,
   "id": "b0cc6e2b",
   "metadata": {},
   "outputs": [],
   "source": [
    "# gradient decent\n",
    "def gradient_descent(m_now, b_now, points, L):\n",
    "    m_gradient = 0\n",
    "    b_gradient = 0\n",
    "    \n",
    "    n = len(points)\n",
    "    \n",
    "    for i in range(n):\n",
    "        x = points.iloc[i].study_time\n",
    "        y = points.iloc[i].score\n",
    "        \n",
    "        m_gradient += -(2/n) * x * (y - (m_now*x + b_now))\n",
    "        b_gradient += -(2/n) * (y - (m_now*x + b_now))\n",
    "        \n",
    "    \n",
    "    m = m_now - m_gradient * L\n",
    "    b = b_now - b_gradient * L\n",
    "    \n",
    "    return m, b"
   ]
  },
  {
   "cell_type": "code",
   "execution_count": 19,
   "id": "34fccc9b",
   "metadata": {},
   "outputs": [
    {
     "name": "stderr",
     "output_type": "stream",
     "text": [
      "/tmp/ipykernel_10279/3028460703.py:12: RuntimeWarning: overflow encountered in scalar add\n",
      "  m_gradient += -(2/n) * x * (y - (m_now*x + b_now))\n",
      "/tmp/ipykernel_10279/3028460703.py:16: RuntimeWarning: invalid value encountered in scalar subtract\n",
      "  m = m_now - m_gradient * L\n"
     ]
    },
    {
     "name": "stdout",
     "output_type": "stream",
     "text": [
      "m : nan\n",
      "b : nan\n"
     ]
    },
    {
     "data": {
      "image/png": "[encoded data removed]",
      "text/plain": [
       "<Figure size 640x480 with 1 Axes>"
      ]
     },
     "metadata": {},
     "output_type": "display_data"
    }
   ],
   "source": [
    "m = 0\n",
    "b = 0\n",
    "L = 0.001\n",
    "epochs = 1000\n",
    "\n",
    "for i in range(epochs):\n",
    "    m, b = gradient_descent(m, b, data, L)\n",
    "    \n",
    "\n",
    "print(f\"m : {m}\")\n",
    "print(f\"b : {b}\")\n",
    "\n",
    "plt.scatter(data.study_time, data.score, color=\"black\")\n",
    "plt.plot(list(range(20, 80)), [m * x + b for x in range(20, 80)], color=\"red\")\n",
    "plt.show()"
   ]
  },
  {
   "cell_type": "code",
   "execution_count": null,
   "id": "799de5c4",
   "metadata": {},
   "outputs": [],
   "source": []
  }
 ],
 "metadata": {
  "kernelspec": {
   "display_name": "Python 3 (ipykernel)",
   "language": "python",
   "name": "python3"
  },
  "language_info": {
   "codemirror_mode": {
    "name": "ipython",
    "version": 3
   },
   "file_extension": ".py",
   "mimetype": "text/x-python",
   "name": "python",
   "nbconvert_exporter": "python",
   "pygments_lexer": "ipython3",
   "version": "3.12.8"
  }
 },
 "nbformat": 4,
 "nbformat_minor": 5
}
