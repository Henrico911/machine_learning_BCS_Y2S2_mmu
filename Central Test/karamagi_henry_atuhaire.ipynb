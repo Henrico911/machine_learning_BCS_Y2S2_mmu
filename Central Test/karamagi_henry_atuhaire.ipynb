{
 "cells": [
  {
   "cell_type": "markdown",
   "id": "88620323",
   "metadata": {},
   "source": [
    "# BCS 2203: Machine Learning – Central Test\n",
    "\n",
    "**Name:** KARAMAGI HENRY ATUHAIRE  \n",
    "**Registration Number:** 2023/U/MMU/BCS/00523\n",
    "\n",
    "---\n"
   ]
  },
  {
   "cell_type": "markdown",
   "id": "9fb07339",
   "metadata": {},
   "source": [
    "# Initial Model #"
   ]
  },
  {
   "cell_type": "code",
   "execution_count": 158,
   "id": "40c9645e",
   "metadata": {},
   "outputs": [],
   "source": [
    "# Importing the libraries\n",
    "\n",
    "import pandas as pd\n",
    "\n",
    "import seaborn as sns\n",
    "import matplotlib.pyplot as plt\n",
    "from scipy.sparse import csr_matrix\n",
    "from joblib import parallel_backend\n",
    "\n",
    "from sklearn.model_selection import train_test_split, cross_val_score\n",
    "from sklearn.preprocessing import StandardScaler\n",
    "from sklearn.linear_model import LogisticRegression\n",
    "from sklearn.metrics import accuracy_score, precision_score, recall_score, f1_score, confusion_matrix"
   ]
  },
  {
   "cell_type": "markdown",
   "id": "fcb992c0",
   "metadata": {},
   "source": [
    "**1. Loading the Iris dataset**"
   ]
  },
  {
   "cell_type": "code",
   "execution_count": 159,
   "id": "9735e243",
   "metadata": {},
   "outputs": [],
   "source": [
    "# loading the dataset\n",
    "df = pd.read_csv('iris.csv')\n",
    "df.columns = ['sepal_length', 'sepal_width', 'petal_length', 'petal_width', 'species']"
   ]
  },
  {
   "cell_type": "code",
   "execution_count": 160,
   "id": "5d2587d8",
   "metadata": {},
   "outputs": [],
   "source": [
    "# Features\n",
    "X = df.iloc[:, :-1].values  \n",
    "\n",
    "# Target \n",
    "y = df.iloc[:, -1].values   "
   ]
  },
  {
   "cell_type": "markdown",
   "id": "271b0c5a",
   "metadata": {},
   "source": [
    "**2. Preprocessing the Dataset : Scaling the Features**"
   ]
  },
  {
   "cell_type": "code",
   "execution_count": 161,
   "id": "b0f8c066",
   "metadata": {},
   "outputs": [],
   "source": [
    "# Scaling the features\n",
    "scaler = StandardScaler()\n",
    "X_scaled = scaler.fit_transform(X)"
   ]
  },
  {
   "cell_type": "markdown",
   "id": "c1ee2c26",
   "metadata": {},
   "source": [
    "**3. Split the Dataset into Training and Testing Sets**"
   ]
  },
  {
   "cell_type": "code",
   "execution_count": 162,
   "id": "4228c720",
   "metadata": {},
   "outputs": [],
   "source": [
    "# Splitting data\n",
    "X_train, X_test, y_train, y_test = train_test_split(X_scaled,  y,   test_size=0.3,  random_state=42) "
   ]
  },
  {
   "cell_type": "markdown",
   "id": "1ec9a4f5",
   "metadata": {},
   "source": [
    "**4. Training a Logistic Regression Classifier on the Training Set**"
   ]
  },
  {
   "cell_type": "code",
   "execution_count": 163,
   "id": "6057430f",
   "metadata": {},
   "outputs": [
    {
     "data": {
      "text/html": [
       "<style>#sk-container-id-9 {\n",
       "  /* Definition of color scheme common for light and dark mode */\n",
       "  --sklearn-color-text: black;\n",
       "  --sklearn-color-line: gray;\n",
       "  /* Definition of color scheme for unfitted estimators */\n",
       "  --sklearn-color-unfitted-level-0: #fff5e6;\n",
       "  --sklearn-color-unfitted-level-1: #f6e4d2;\n",
       "  --sklearn-color-unfitted-level-2: #ffe0b3;\n",
       "  --sklearn-color-unfitted-level-3: chocolate;\n",
       "  /* Definition of color scheme for fitted estimators */\n",
       "  --sklearn-color-fitted-level-0: #f0f8ff;\n",
       "  --sklearn-color-fitted-level-1: #d4ebff;\n",
       "  --sklearn-color-fitted-level-2: #b3dbfd;\n",
       "  --sklearn-color-fitted-level-3: cornflowerblue;\n",
       "\n",
       "  /* Specific color for light theme */\n",
       "  --sklearn-color-text-on-default-background: var(--sg-text-color, var(--theme-code-foreground, var(--jp-content-font-color1, black)));\n",
       "  --sklearn-color-background: var(--sg-background-color, var(--theme-background, var(--jp-layout-color0, white)));\n",
       "  --sklearn-color-border-box: var(--sg-text-color, var(--theme-code-foreground, var(--jp-content-font-color1, black)));\n",
       "  --sklearn-color-icon: #696969;\n",
       "\n",
       "  @media (prefers-color-scheme: dark) {\n",
       "    /* Redefinition of color scheme for dark theme */\n",
       "    --sklearn-color-text-on-default-background: var(--sg-text-color, var(--theme-code-foreground, var(--jp-content-font-color1, white)));\n",
       "    --sklearn-color-background: var(--sg-background-color, var(--theme-background, var(--jp-layout-color0, #111)));\n",
       "    --sklearn-color-border-box: var(--sg-text-color, var(--theme-code-foreground, var(--jp-content-font-color1, white)));\n",
       "    --sklearn-color-icon: #878787;\n",
       "  }\n",
       "}\n",
       "\n",
       "#sk-container-id-9 {\n",
       "  color: var(--sklearn-color-text);\n",
       "}\n",
       "\n",
       "#sk-container-id-9 pre {\n",
       "  padding: 0;\n",
       "}\n",
       "\n",
       "#sk-container-id-9 input.sk-hidden--visually {\n",
       "  border: 0;\n",
       "  clip: rect(1px 1px 1px 1px);\n",
       "  clip: rect(1px, 1px, 1px, 1px);\n",
       "  height: 1px;\n",
       "  margin: -1px;\n",
       "  overflow: hidden;\n",
       "  padding: 0;\n",
       "  position: absolute;\n",
       "  width: 1px;\n",
       "}\n",
       "\n",
       "#sk-container-id-9 div.sk-dashed-wrapped {\n",
       "  border: 1px dashed var(--sklearn-color-line);\n",
       "  margin: 0 0.4em 0.5em 0.4em;\n",
       "  box-sizing: border-box;\n",
       "  padding-bottom: 0.4em;\n",
       "  background-color: var(--sklearn-color-background);\n",
       "}\n",
       "\n",
       "#sk-container-id-9 div.sk-container {\n",
       "  /* jupyter's `normalize.less` sets `[hidden] { display: none; }`\n",
       "     but bootstrap.min.css set `[hidden] { display: none !important; }`\n",
       "     so we also need the `!important` here to be able to override the\n",
       "     default hidden behavior on the sphinx rendered scikit-learn.org.\n",
       "     See: https://github.com/scikit-learn/scikit-learn/issues/21755 */\n",
       "  display: inline-block !important;\n",
       "  position: relative;\n",
       "}\n",
       "\n",
       "#sk-container-id-9 div.sk-text-repr-fallback {\n",
       "  display: none;\n",
       "}\n",
       "\n",
       "div.sk-parallel-item,\n",
       "div.sk-serial,\n",
       "div.sk-item {\n",
       "  /* draw centered vertical line to link estimators */\n",
       "  background-image: linear-gradient(var(--sklearn-color-text-on-default-background), var(--sklearn-color-text-on-default-background));\n",
       "  background-size: 2px 100%;\n",
       "  background-repeat: no-repeat;\n",
       "  background-position: center center;\n",
       "}\n",
       "\n",
       "/* Parallel-specific style estimator block */\n",
       "\n",
       "#sk-container-id-9 div.sk-parallel-item::after {\n",
       "  content: \"\";\n",
       "  width: 100%;\n",
       "  border-bottom: 2px solid var(--sklearn-color-text-on-default-background);\n",
       "  flex-grow: 1;\n",
       "}\n",
       "\n",
       "#sk-container-id-9 div.sk-parallel {\n",
       "  display: flex;\n",
       "  align-items: stretch;\n",
       "  justify-content: center;\n",
       "  background-color: var(--sklearn-color-background);\n",
       "  position: relative;\n",
       "}\n",
       "\n",
       "#sk-container-id-9 div.sk-parallel-item {\n",
       "  display: flex;\n",
       "  flex-direction: column;\n",
       "}\n",
       "\n",
       "#sk-container-id-9 div.sk-parallel-item:first-child::after {\n",
       "  align-self: flex-end;\n",
       "  width: 50%;\n",
       "}\n",
       "\n",
       "#sk-container-id-9 div.sk-parallel-item:last-child::after {\n",
       "  align-self: flex-start;\n",
       "  width: 50%;\n",
       "}\n",
       "\n",
       "#sk-container-id-9 div.sk-parallel-item:only-child::after {\n",
       "  width: 0;\n",
       "}\n",
       "\n",
       "/* Serial-specific style estimator block */\n",
       "\n",
       "#sk-container-id-9 div.sk-serial {\n",
       "  display: flex;\n",
       "  flex-direction: column;\n",
       "  align-items: center;\n",
       "  background-color: var(--sklearn-color-background);\n",
       "  padding-right: 1em;\n",
       "  padding-left: 1em;\n",
       "}\n",
       "\n",
       "\n",
       "/* Toggleable style: style used for estimator/Pipeline/ColumnTransformer box that is\n",
       "clickable and can be expanded/collapsed.\n",
       "- Pipeline and ColumnTransformer use this feature and define the default style\n",
       "- Estimators will overwrite some part of the style using the `sk-estimator` class\n",
       "*/\n",
       "\n",
       "/* Pipeline and ColumnTransformer style (default) */\n",
       "\n",
       "#sk-container-id-9 div.sk-toggleable {\n",
       "  /* Default theme specific background. It is overwritten whether we have a\n",
       "  specific estimator or a Pipeline/ColumnTransformer */\n",
       "  background-color: var(--sklearn-color-background);\n",
       "}\n",
       "\n",
       "/* Toggleable label */\n",
       "#sk-container-id-9 label.sk-toggleable__label {\n",
       "  cursor: pointer;\n",
       "  display: block;\n",
       "  width: 100%;\n",
       "  margin-bottom: 0;\n",
       "  padding: 0.5em;\n",
       "  box-sizing: border-box;\n",
       "  text-align: center;\n",
       "}\n",
       "\n",
       "#sk-container-id-9 label.sk-toggleable__label-arrow:before {\n",
       "  /* Arrow on the left of the label */\n",
       "  content: \"▸\";\n",
       "  float: left;\n",
       "  margin-right: 0.25em;\n",
       "  color: var(--sklearn-color-icon);\n",
       "}\n",
       "\n",
       "#sk-container-id-9 label.sk-toggleable__label-arrow:hover:before {\n",
       "  color: var(--sklearn-color-text);\n",
       "}\n",
       "\n",
       "/* Toggleable content - dropdown */\n",
       "\n",
       "#sk-container-id-9 div.sk-toggleable__content {\n",
       "  max-height: 0;\n",
       "  max-width: 0;\n",
       "  overflow: hidden;\n",
       "  text-align: left;\n",
       "  /* unfitted */\n",
       "  background-color: var(--sklearn-color-unfitted-level-0);\n",
       "}\n",
       "\n",
       "#sk-container-id-9 div.sk-toggleable__content.fitted {\n",
       "  /* fitted */\n",
       "  background-color: var(--sklearn-color-fitted-level-0);\n",
       "}\n",
       "\n",
       "#sk-container-id-9 div.sk-toggleable__content pre {\n",
       "  margin: 0.2em;\n",
       "  border-radius: 0.25em;\n",
       "  color: var(--sklearn-color-text);\n",
       "  /* unfitted */\n",
       "  background-color: var(--sklearn-color-unfitted-level-0);\n",
       "}\n",
       "\n",
       "#sk-container-id-9 div.sk-toggleable__content.fitted pre {\n",
       "  /* unfitted */\n",
       "  background-color: var(--sklearn-color-fitted-level-0);\n",
       "}\n",
       "\n",
       "#sk-container-id-9 input.sk-toggleable__control:checked~div.sk-toggleable__content {\n",
       "  /* Expand drop-down */\n",
       "  max-height: 200px;\n",
       "  max-width: 100%;\n",
       "  overflow: auto;\n",
       "}\n",
       "\n",
       "#sk-container-id-9 input.sk-toggleable__control:checked~label.sk-toggleable__label-arrow:before {\n",
       "  content: \"▾\";\n",
       "}\n",
       "\n",
       "/* Pipeline/ColumnTransformer-specific style */\n",
       "\n",
       "#sk-container-id-9 div.sk-label input.sk-toggleable__control:checked~label.sk-toggleable__label {\n",
       "  color: var(--sklearn-color-text);\n",
       "  background-color: var(--sklearn-color-unfitted-level-2);\n",
       "}\n",
       "\n",
       "#sk-container-id-9 div.sk-label.fitted input.sk-toggleable__control:checked~label.sk-toggleable__label {\n",
       "  background-color: var(--sklearn-color-fitted-level-2);\n",
       "}\n",
       "\n",
       "/* Estimator-specific style */\n",
       "\n",
       "/* Colorize estimator box */\n",
       "#sk-container-id-9 div.sk-estimator input.sk-toggleable__control:checked~label.sk-toggleable__label {\n",
       "  /* unfitted */\n",
       "  background-color: var(--sklearn-color-unfitted-level-2);\n",
       "}\n",
       "\n",
       "#sk-container-id-9 div.sk-estimator.fitted input.sk-toggleable__control:checked~label.sk-toggleable__label {\n",
       "  /* fitted */\n",
       "  background-color: var(--sklearn-color-fitted-level-2);\n",
       "}\n",
       "\n",
       "#sk-container-id-9 div.sk-label label.sk-toggleable__label,\n",
       "#sk-container-id-9 div.sk-label label {\n",
       "  /* The background is the default theme color */\n",
       "  color: var(--sklearn-color-text-on-default-background);\n",
       "}\n",
       "\n",
       "/* On hover, darken the color of the background */\n",
       "#sk-container-id-9 div.sk-label:hover label.sk-toggleable__label {\n",
       "  color: var(--sklearn-color-text);\n",
       "  background-color: var(--sklearn-color-unfitted-level-2);\n",
       "}\n",
       "\n",
       "/* Label box, darken color on hover, fitted */\n",
       "#sk-container-id-9 div.sk-label.fitted:hover label.sk-toggleable__label.fitted {\n",
       "  color: var(--sklearn-color-text);\n",
       "  background-color: var(--sklearn-color-fitted-level-2);\n",
       "}\n",
       "\n",
       "/* Estimator label */\n",
       "\n",
       "#sk-container-id-9 div.sk-label label {\n",
       "  font-family: monospace;\n",
       "  font-weight: bold;\n",
       "  display: inline-block;\n",
       "  line-height: 1.2em;\n",
       "}\n",
       "\n",
       "#sk-container-id-9 div.sk-label-container {\n",
       "  text-align: center;\n",
       "}\n",
       "\n",
       "/* Estimator-specific */\n",
       "#sk-container-id-9 div.sk-estimator {\n",
       "  font-family: monospace;\n",
       "  border: 1px dotted var(--sklearn-color-border-box);\n",
       "  border-radius: 0.25em;\n",
       "  box-sizing: border-box;\n",
       "  margin-bottom: 0.5em;\n",
       "  /* unfitted */\n",
       "  background-color: var(--sklearn-color-unfitted-level-0);\n",
       "}\n",
       "\n",
       "#sk-container-id-9 div.sk-estimator.fitted {\n",
       "  /* fitted */\n",
       "  background-color: var(--sklearn-color-fitted-level-0);\n",
       "}\n",
       "\n",
       "/* on hover */\n",
       "#sk-container-id-9 div.sk-estimator:hover {\n",
       "  /* unfitted */\n",
       "  background-color: var(--sklearn-color-unfitted-level-2);\n",
       "}\n",
       "\n",
       "#sk-container-id-9 div.sk-estimator.fitted:hover {\n",
       "  /* fitted */\n",
       "  background-color: var(--sklearn-color-fitted-level-2);\n",
       "}\n",
       "\n",
       "/* Specification for estimator info (e.g. \"i\" and \"?\") */\n",
       "\n",
       "/* Common style for \"i\" and \"?\" */\n",
       "\n",
       ".sk-estimator-doc-link,\n",
       "a:link.sk-estimator-doc-link,\n",
       "a:visited.sk-estimator-doc-link {\n",
       "  float: right;\n",
       "  font-size: smaller;\n",
       "  line-height: 1em;\n",
       "  font-family: monospace;\n",
       "  background-color: var(--sklearn-color-background);\n",
       "  border-radius: 1em;\n",
       "  height: 1em;\n",
       "  width: 1em;\n",
       "  text-decoration: none !important;\n",
       "  margin-left: 1ex;\n",
       "  /* unfitted */\n",
       "  border: var(--sklearn-color-unfitted-level-1) 1pt solid;\n",
       "  color: var(--sklearn-color-unfitted-level-1);\n",
       "}\n",
       "\n",
       ".sk-estimator-doc-link.fitted,\n",
       "a:link.sk-estimator-doc-link.fitted,\n",
       "a:visited.sk-estimator-doc-link.fitted {\n",
       "  /* fitted */\n",
       "  border: var(--sklearn-color-fitted-level-1) 1pt solid;\n",
       "  color: var(--sklearn-color-fitted-level-1);\n",
       "}\n",
       "\n",
       "/* On hover */\n",
       "div.sk-estimator:hover .sk-estimator-doc-link:hover,\n",
       ".sk-estimator-doc-link:hover,\n",
       "div.sk-label-container:hover .sk-estimator-doc-link:hover,\n",
       ".sk-estimator-doc-link:hover {\n",
       "  /* unfitted */\n",
       "  background-color: var(--sklearn-color-unfitted-level-3);\n",
       "  color: var(--sklearn-color-background);\n",
       "  text-decoration: none;\n",
       "}\n",
       "\n",
       "div.sk-estimator.fitted:hover .sk-estimator-doc-link.fitted:hover,\n",
       ".sk-estimator-doc-link.fitted:hover,\n",
       "div.sk-label-container:hover .sk-estimator-doc-link.fitted:hover,\n",
       ".sk-estimator-doc-link.fitted:hover {\n",
       "  /* fitted */\n",
       "  background-color: var(--sklearn-color-fitted-level-3);\n",
       "  color: var(--sklearn-color-background);\n",
       "  text-decoration: none;\n",
       "}\n",
       "\n",
       "/* Span, style for the box shown on hovering the info icon */\n",
       ".sk-estimator-doc-link span {\n",
       "  display: none;\n",
       "  z-index: 9999;\n",
       "  position: relative;\n",
       "  font-weight: normal;\n",
       "  right: .2ex;\n",
       "  padding: .5ex;\n",
       "  margin: .5ex;\n",
       "  width: min-content;\n",
       "  min-width: 20ex;\n",
       "  max-width: 50ex;\n",
       "  color: var(--sklearn-color-text);\n",
       "  box-shadow: 2pt 2pt 4pt #999;\n",
       "  /* unfitted */\n",
       "  background: var(--sklearn-color-unfitted-level-0);\n",
       "  border: .5pt solid var(--sklearn-color-unfitted-level-3);\n",
       "}\n",
       "\n",
       ".sk-estimator-doc-link.fitted span {\n",
       "  /* fitted */\n",
       "  background: var(--sklearn-color-fitted-level-0);\n",
       "  border: var(--sklearn-color-fitted-level-3);\n",
       "}\n",
       "\n",
       ".sk-estimator-doc-link:hover span {\n",
       "  display: block;\n",
       "}\n",
       "\n",
       "/* \"?\"-specific style due to the `<a>` HTML tag */\n",
       "\n",
       "#sk-container-id-9 a.estimator_doc_link {\n",
       "  float: right;\n",
       "  font-size: 1rem;\n",
       "  line-height: 1em;\n",
       "  font-family: monospace;\n",
       "  background-color: var(--sklearn-color-background);\n",
       "  border-radius: 1rem;\n",
       "  height: 1rem;\n",
       "  width: 1rem;\n",
       "  text-decoration: none;\n",
       "  /* unfitted */\n",
       "  color: var(--sklearn-color-unfitted-level-1);\n",
       "  border: var(--sklearn-color-unfitted-level-1) 1pt solid;\n",
       "}\n",
       "\n",
       "#sk-container-id-9 a.estimator_doc_link.fitted {\n",
       "  /* fitted */\n",
       "  border: var(--sklearn-color-fitted-level-1) 1pt solid;\n",
       "  color: var(--sklearn-color-fitted-level-1);\n",
       "}\n",
       "\n",
       "/* On hover */\n",
       "#sk-container-id-9 a.estimator_doc_link:hover {\n",
       "  /* unfitted */\n",
       "  background-color: var(--sklearn-color-unfitted-level-3);\n",
       "  color: var(--sklearn-color-background);\n",
       "  text-decoration: none;\n",
       "}\n",
       "\n",
       "#sk-container-id-9 a.estimator_doc_link.fitted:hover {\n",
       "  /* fitted */\n",
       "  background-color: var(--sklearn-color-fitted-level-3);\n",
       "}\n",
       "</style><div id=\"sk-container-id-9\" class=\"sk-top-container\"><div class=\"sk-text-repr-fallback\"><pre>LogisticRegression(max_iter=200)</pre><b>In a Jupyter environment, please rerun this cell to show the HTML representation or trust the notebook. <br />On GitHub, the HTML representation is unable to render, please try loading this page with nbviewer.org.</b></div><div class=\"sk-container\" hidden><div class=\"sk-item\"><div class=\"sk-estimator fitted sk-toggleable\"><input class=\"sk-toggleable__control sk-hidden--visually\" id=\"sk-estimator-id-9\" type=\"checkbox\" checked><label for=\"sk-estimator-id-9\" class=\"sk-toggleable__label fitted sk-toggleable__label-arrow fitted\">&nbsp;&nbsp;LogisticRegression<a class=\"sk-estimator-doc-link fitted\" rel=\"noreferrer\" target=\"_blank\" href=\"https://scikit-learn.org/1.4/modules/generated/sklearn.linear_model.LogisticRegression.html\">?<span>Documentation for LogisticRegression</span></a><span class=\"sk-estimator-doc-link fitted\">i<span>Fitted</span></span></label><div class=\"sk-toggleable__content fitted\"><pre>LogisticRegression(max_iter=200)</pre></div> </div></div></div></div>"
      ],
      "text/plain": [
       "LogisticRegression(max_iter=200)"
      ]
     },
     "execution_count": 163,
     "metadata": {},
     "output_type": "execute_result"
    }
   ],
   "source": [
    "# The original model\n",
    "original_model =   LogisticRegression(max_iter=200)\n",
    "original_model.fit(X_train,    y_train)"
   ]
  },
  {
   "cell_type": "markdown",
   "id": "c6961dc2",
   "metadata": {},
   "source": [
    "**5. Model Evaluation**"
   ]
  },
  {
   "cell_type": "code",
   "execution_count": 164,
   "id": "ef08f14e",
   "metadata": {},
   "outputs": [
    {
     "name": "stdout",
     "output_type": "stream",
     "text": [
      "Original Model Metrics\n",
      "Accuracy   :   0.91\n",
      "Precision  :   0.92\n",
      "Recall     :   0.91\n",
      "F1 Score   :   0.91\n"
     ]
    }
   ],
   "source": [
    "# Model Evaluation\n",
    "# make prediction\n",
    "y_pred_original = original_model.predict(X_test)\n",
    "accuracy_original = accuracy_score(y_test, y_pred_original)\n",
    "\n",
    "\n",
    "# Calculating evaluation metrics for the original model\n",
    "accuracy = accuracy_score(y_test, y_pred_original)\n",
    "precision = precision_score(y_test, y_pred_original, average='weighted')\n",
    "recall = recall_score(y_test, y_pred_original, average='weighted')\n",
    "f1 = f1_score(y_test, y_pred_original, average='weighted')\n",
    "\n",
    "# Results\n",
    "print(\"Original Model Metrics\")\n",
    "print(f\"Accuracy   :   {accuracy:.2f}\")\n",
    "print(f\"Precision  :   {  precision:.2f}\")\n",
    "print(f\"Recall     :   { recall:.2f}\")\n",
    "print(f\"F1 Score   :   {f1:.2f}\")"
   ]
  },
  {
   "cell_type": "markdown",
   "id": "73157866",
   "metadata": {},
   "source": [
    "# Cross Validation of the Original model #"
   ]
  },
  {
   "cell_type": "code",
   "execution_count": 165,
   "id": "cacf6521",
   "metadata": {},
   "outputs": [
    {
     "name": "stdout",
     "output_type": "stream",
     "text": [
      "Cross Validation with the Original Model\n",
      "C-V Scores: [0.96666667 1.         0.93333333 0.9        1.        ]\n",
      "Average C-V Accuracy: 0.96\n"
     ]
    }
   ],
   "source": [
    "cv_scores = cross_val_score(original_model,   X_scaled,y, cv=5)\n",
    "print(\"Cross Validation with the Original Model\")\n",
    "print(f\"C-V Scores: {cv_scores}\")\n",
    "print(f\"Average C-V Accuracy: {cv_scores.mean():.2f}\")"
   ]
  },
  {
   "cell_type": "markdown",
   "id": "d67a337b",
   "metadata": {},
   "source": [
    "# Optimization #"
   ]
  },
  {
   "cell_type": "markdown",
   "id": "9d2d62fc",
   "metadata": {},
   "source": [
    "### **Option 1: Parallel Processing**"
   ]
  },
  {
   "cell_type": "code",
   "execution_count": 166,
   "id": "d15c5867",
   "metadata": {},
   "outputs": [
    {
     "name": "stdout",
     "output_type": "stream",
     "text": [
      "\n",
      "Parallel Processing Model Metrics\n",
      "Accuracy   :    1.00\n",
      "Precision  :    1.00\n",
      "Recall     :    1.00\n",
      "F1 Score   :    1.00\n"
     ]
    }
   ],
   "source": [
    "with parallel_backend('threading', n_jobs=-1):  # using all available CPU cores\n",
    "    # Enabling parallel processing\n",
    "    parallel_model = LogisticRegression(max_iter=200, n_jobs=-1)  \n",
    "    \n",
    "    # fitting the data\n",
    "    parallel_model.fit(X_train, y_train)\n",
    "    \n",
    "\n",
    "# Calculating evaluation metrics for the parallel processing model\n",
    "accuracy_parallel = accuracy_score(y_test, y_pred_parallel)\n",
    "precision_parallel = precision_score(y_test, y_pred_parallel, average='weighted')\n",
    "recall_parallel = recall_score(y_test, y_pred_parallel, average='weighted')\n",
    "f1_parallel = f1_score(y_test, y_pred_parallel, average='weighted')\n",
    "conf_matrix_parallel = confusion_matrix(y_test, y_pred_parallel)\n",
    "\n",
    "# Results\n",
    "print(\"\\nParallel Processing Model Metrics\")\n",
    "print(f\"Accuracy   :    {accuracy_parallel:.2f}\")\n",
    "print(f\"Precision  :    {precision_parallel:.2f}\")\n",
    "print(f\"Recall     :    {recall_parallel:.2f}\")\n",
    "print(f\"F1 Score   :    {f1_parallel:.2f}\")"
   ]
  },
  {
   "cell_type": "markdown",
   "id": "6a38ee68",
   "metadata": {},
   "source": [
    "### **Option 2: Efficient Algorithm using Solver**"
   ]
  },
  {
   "cell_type": "code",
   "execution_count": 167,
   "id": "cc9ea2e7",
   "metadata": {},
   "outputs": [
    {
     "name": "stdout",
     "output_type": "stream",
     "text": [
      "\n",
      "Solver Model Metrics\n",
      "Accuracy   : 1.00\n",
      "Precision  : 1.00\n",
      "Recall     : 1.00\n",
      "F1 Score   : 1.00\n"
     ]
    }
   ],
   "source": [
    "# Using the solver paramaeter\n",
    "efficient_model = LogisticRegression(solver='saga', max_iter=200)\n",
    "efficient_model.fit(X_train, y_train)\n",
    "\n",
    "# Calculate evaluation metrics for the efficient algorithm model\n",
    "accuracy_efficient = accuracy_score(y_test, y_pred_efficient)\n",
    "precision_efficient = precision_score(y_test, y_pred_efficient, average='weighted')\n",
    "recall_efficient = recall_score(y_test, y_pred_efficient, average='weighted')\n",
    "f1_efficient = f1_score(y_test, y_pred_efficient, average='weighted')\n",
    "conf_matrix_efficient = confusion_matrix(y_test, y_pred_efficient)\n",
    "\n",
    "# Print the results\n",
    "print(\"\\nSolver Model Metrics\")\n",
    "print(f\"Accuracy   : {accuracy_efficient:.2f}\")\n",
    "print(f\"Precision  : {precision_efficient:.2f}\")\n",
    "print(f\"Recall     : {recall_efficient:.2f}\")\n",
    "print(f\"F1 Score   : {f1_efficient:.2f}\")"
   ]
  },
  {
   "cell_type": "markdown",
   "id": "2e4bb65b",
   "metadata": {},
   "source": [
    "### **Option 3: Sparse Matrices**"
   ]
  },
  {
   "cell_type": "code",
   "execution_count": 168,
   "id": "77db3009",
   "metadata": {},
   "outputs": [
    {
     "name": "stdout",
     "output_type": "stream",
     "text": [
      "\n",
      "Sparse Matrices Model Metrics\n",
      "Accuracy   : 1.00\n",
      "Precision  : 1.00\n",
      "Recall     : 1.00\n",
      "F1 Score   : 1.00\n"
     ]
    }
   ],
   "source": [
    "# Converting to a sparse matrix\n",
    "X_sparse = csr_matrix(X_scaled)  \n",
    "X_train_sparse, X_test_sparse, y_train, y_test = train_test_split(X_sparse, y, test_size=0.3, random_state=42)\n",
    "\n",
    "sparse_model = LogisticRegression(max_iter=200) \n",
    "sparse_model.fit(X_train_sparse, y_train)\n",
    "\n",
    "# Calculate evaluation metrics for the sparse matrices model\n",
    "accuracy_sparse = accuracy_score(y_test, y_pred_sparse)\n",
    "precision_sparse = precision_score(y_test, y_pred_sparse, average='weighted')\n",
    "recall_sparse = recall_score(y_test, y_pred_sparse, average='weighted')\n",
    "f1_sparse = f1_score(y_test, y_pred_sparse, average='weighted')\n",
    "conf_matrix_sparse = confusion_matrix(y_test, y_pred_sparse)\n",
    "\n",
    "# Print the results\n",
    "print(\"\\nSparse Matrices Model Metrics\")\n",
    "print(f\"Accuracy   : {accuracy_sparse:.2f}\")\n",
    "print(f\"Precision  : {precision_sparse:.2f}\")\n",
    "print(f\"Recall     : {recall_sparse:.2f}\")\n",
    "print(f\"F1 Score   : {f1_sparse:.2f}\")"
   ]
  },
  {
   "cell_type": "markdown",
   "id": "4616a336",
   "metadata": {},
   "source": [
    "# Comparison of the Performance of the models #"
   ]
  },
  {
   "cell_type": "code",
   "execution_count": 169,
   "id": "723122e5",
   "metadata": {},
   "outputs": [
    {
     "name": "stdout",
     "output_type": "stream",
     "text": [
      "\n",
      "Model Performance Comparison\n",
      "Original Model Accuracy  : 0.91\n",
      "Parallel Model Accuracy  : 1.00\n",
      "Solver Model Accuracy    : 1.00\n",
      "Sparse Model Accuracy    : 1.00\n"
     ]
    }
   ],
   "source": [
    "print(\"\\nModel Performance Comparison\")\n",
    "print(f\"Original Model Accuracy  : {accuracy_original:.2f}\")\n",
    "print(f\"Parallel Model Accuracy  : {accuracy_parallel:.2f}\")\n",
    "print(f\"Solver Model Accuracy    : {accuracy_efficient:.2f}\")\n",
    "print(f\"Sparse Model Accuracy    : {accuracy_sparse:.2f}\")"
   ]
  },
  {
   "cell_type": "markdown",
   "id": "9119846d",
   "metadata": {},
   "source": [
    "# Visualization #"
   ]
  },
  {
   "cell_type": "code",
   "execution_count": 170,
   "id": "d361f83b",
   "metadata": {},
   "outputs": [],
   "source": [
    "# 1. selecting the model with the highest accuracy\n",
    "best_model = parallel_model if accuracy_parallel >= max(accuracy_original, accuracy_efficient, accuracy_sparse) else \\\n",
    "             efficient_model if accuracy_efficient >= max(accuracy_original, accuracy_parallel, accuracy_sparse) else \\\n",
    "             sparse_model if accuracy_sparse >= max(accuracy_original, accuracy_parallel, accuracy_efficient) else \\\n",
    "             original_model\n",
    "\n",
    "y_pred_best = best_model.predict(X_test)\n",
    "conf_matrix = confusion_matrix(y_test, y_pred_best)"
   ]
  },
  {
   "cell_type": "code",
   "execution_count": 171,
   "id": "379d4bc4",
   "metadata": {
    "scrolled": false
   },
   "outputs": [
    {
     "data": {
      "image/png": "[encoded data removed]",
      "text/plain": [
       "<Figure size 800x600 with 2 Axes>"
      ]
     },
     "metadata": {},
     "output_type": "display_data"
    }
   ],
   "source": [
    "# 2. Plotting the confusion matrix\n",
    "plt.figure(figsize=(8, 6))\n",
    "sns.heatmap(conf_matrix, annot=True,fmt='d',   cmap='BuPu', \n",
    "            xticklabels=np.unique(y), yticklabels=np.unique(y))\n",
    "plt.xlabel('Predicted')\n",
    "plt.ylabel('True')\n",
    "plt.title('Best Model Confusion Matrix')\n",
    "plt.show()"
   ]
  },
  {
   "cell_type": "markdown",
   "id": "600e03ae",
   "metadata": {},
   "source": [
    "# Cross Validation of the Best model #"
   ]
  },
  {
   "cell_type": "code",
   "execution_count": 172,
   "id": "ddbba390",
   "metadata": {},
   "outputs": [
    {
     "name": "stdout",
     "output_type": "stream",
     "text": [
      "Cross Validation with the Best Model\n",
      "C-V Scores: [0.96666667 1.         0.93333333 0.9        1.        ]\n",
      "Average C-V Accuracy: 0.96\n"
     ]
    }
   ],
   "source": [
    "cv_scores = cross_val_score(best_model,   X_scaled,y, cv=5)\n",
    "print(\"Cross Validation with the Best Model\")\n",
    "print(f\"C-V Scores: {cv_scores}\")\n",
    "print(f\"Average C-V Accuracy: {cv_scores.mean():.2f}\")"
   ]
  },
  {
   "cell_type": "code",
   "execution_count": null,
   "id": "4d4b7cde",
   "metadata": {},
   "outputs": [],
   "source": []
  }
 ],
 "metadata": {
  "kernelspec": {
   "display_name": "Python 3 (ipykernel)",
   "language": "python",
   "name": "python3"
  },
  "language_info": {
   "codemirror_mode": {
    "name": "ipython",
    "version": 3
   },
   "file_extension": ".py",
   "mimetype": "text/x-python",
   "name": "python",
   "nbconvert_exporter": "python",
   "pygments_lexer": "ipython3",
   "version": "3.13.2"
  }
 },
 "nbformat": 4,
 "nbformat_minor": 5
}
